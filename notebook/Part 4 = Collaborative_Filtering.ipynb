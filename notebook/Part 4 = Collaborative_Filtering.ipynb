{
 "cells": [
  {
   "cell_type": "markdown",
   "id": "d0d24a48",
   "metadata": {},
   "source": [
    "## Introduction"
   ]
  },
  {
   "cell_type": "markdown",
   "id": "f26c85ab",
   "metadata": {},
   "source": [
    "## Collaborative filtering"
   ]
  },
  {
   "cell_type": "markdown",
   "id": "42a76fb8",
   "metadata": {},
   "source": [
    "## Exploratory data analysis (EDA)"
   ]
  },
  {
   "cell_type": "markdown",
   "id": "c17c6e7c",
   "metadata": {},
   "source": [
    "## Memory-based approach (user to user)"
   ]
  },
  {
   "cell_type": "markdown",
   "id": "5578531d",
   "metadata": {},
   "source": [
    "## Memory-based approach (item to item)"
   ]
  },
  {
   "cell_type": "markdown",
   "id": "43202e7d",
   "metadata": {},
   "source": [
    "## Model-based approach"
   ]
  },
  {
   "cell_type": "markdown",
   "id": "76a25d44",
   "metadata": {},
   "source": [
    "## Building a KNN model"
   ]
  },
  {
   "cell_type": "markdown",
   "id": "bed42036",
   "metadata": {},
   "source": [
    "## Matrix factorisation"
   ]
  },
  {
   "cell_type": "markdown",
   "id": "0d6271ec",
   "metadata": {},
   "source": [
    "## Data preparation"
   ]
  },
  {
   "cell_type": "markdown",
   "id": "13388b7e",
   "metadata": {},
   "source": [
    "## Implementation of Matrix factorisation"
   ]
  },
  {
   "cell_type": "markdown",
   "id": "51df0c0a",
   "metadata": {},
   "source": [
    "## (Surprise python library)"
   ]
  },
  {
   "cell_type": "markdown",
   "id": "b459b67f",
   "metadata": {},
   "source": [
    "## (Surprise python library) evaluation"
   ]
  },
  {
   "cell_type": "markdown",
   "id": "1a0ac7be",
   "metadata": {},
   "source": [
    "## Conclusion"
   ]
  }
 ],
 "metadata": {
  "kernelspec": {
   "display_name": "Python 3 (ipykernel)",
   "language": "python",
   "name": "python3"
  },
  "language_info": {
   "codemirror_mode": {
    "name": "ipython",
    "version": 3
   },
   "file_extension": ".py",
   "mimetype": "text/x-python",
   "name": "python",
   "nbconvert_exporter": "python",
   "pygments_lexer": "ipython3",
   "version": "3.9.12"
  }
 },
 "nbformat": 4,
 "nbformat_minor": 5
}
