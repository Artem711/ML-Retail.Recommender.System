{
 "cells": [
  {
   "cell_type": "markdown",
   "id": "4577ad08",
   "metadata": {},
   "source": [
    "## Introduction"
   ]
  },
  {
   "cell_type": "markdown",
   "id": "48ca7946",
   "metadata": {},
   "source": [
    "## Understanding the Content-based (Recommender System)"
   ]
  },
  {
   "cell_type": "markdown",
   "id": "57733039",
   "metadata": {},
   "source": [
    "## Components of Content-based (Recommender System)"
   ]
  },
  {
   "cell_type": "markdown",
   "id": "54065407",
   "metadata": {},
   "source": [
    "## Text to features"
   ]
  },
  {
   "cell_type": "markdown",
   "id": "270166b1",
   "metadata": {},
   "source": [
    "## Similarity measures"
   ]
  },
  {
   "cell_type": "markdown",
   "id": "a8ebd993",
   "metadata": {},
   "source": [
    "## Ranking"
   ]
  },
  {
   "cell_type": "markdown",
   "id": "e318d9a5",
   "metadata": {},
   "source": [
    "## Required libraries"
   ]
  },
  {
   "cell_type": "markdown",
   "id": "8e2ecd71",
   "metadata": {},
   "source": [
    "## Data description"
   ]
  },
  {
   "cell_type": "markdown",
   "id": "bfd90e59",
   "metadata": {},
   "source": [
    "## Loading pre-trained models"
   ]
  },
  {
   "cell_type": "markdown",
   "id": "17312e2e",
   "metadata": {},
   "source": [
    "## Data preprocessing"
   ]
  },
  {
   "cell_type": "markdown",
   "id": "59857d18",
   "metadata": {},
   "source": [
    "## Different similarity measures"
   ]
  },
  {
   "cell_type": "markdown",
   "id": "da666173",
   "metadata": {},
   "source": [
    "## Functions for ranking"
   ]
  },
  {
   "cell_type": "markdown",
   "id": "841483f9",
   "metadata": {},
   "source": [
    "## Recommendation using (Count Vectoriser)"
   ]
  },
  {
   "cell_type": "markdown",
   "id": "ada7b527",
   "metadata": {},
   "source": [
    "## Recommendation using (TF-IDF Vectoriser)"
   ]
  },
  {
   "cell_type": "markdown",
   "id": "6f985018",
   "metadata": {},
   "source": [
    "## Recommendation using (Word2Vec)"
   ]
  },
  {
   "cell_type": "markdown",
   "id": "5426d12c",
   "metadata": {},
   "source": [
    "## Recommendation using (FastText)"
   ]
  },
  {
   "cell_type": "markdown",
   "id": "c31b9775",
   "metadata": {},
   "source": [
    "## Recommendation using (Glove)"
   ]
  },
  {
   "cell_type": "markdown",
   "id": "634c0786",
   "metadata": {},
   "source": [
    "## Cooccurance matrix"
   ]
  },
  {
   "cell_type": "markdown",
   "id": "a57ac025",
   "metadata": {},
   "source": [
    "## Streamlit UI"
   ]
  },
  {
   "cell_type": "markdown",
   "id": "e2e085d7",
   "metadata": {},
   "source": [
    "## Advantages and Disadvantages"
   ]
  },
  {
   "cell_type": "markdown",
   "id": "3fe83484",
   "metadata": {},
   "source": [
    "## Conclusion"
   ]
  }
 ],
 "metadata": {
  "kernelspec": {
   "display_name": "Python 3 (ipykernel)",
   "language": "python",
   "name": "python3"
  },
  "language_info": {
   "codemirror_mode": {
    "name": "ipython",
    "version": 3
   },
   "file_extension": ".py",
   "mimetype": "text/x-python",
   "name": "python",
   "nbconvert_exporter": "python",
   "pygments_lexer": "ipython3",
   "version": "3.9.12"
  }
 },
 "nbformat": 4,
 "nbformat_minor": 5
}
