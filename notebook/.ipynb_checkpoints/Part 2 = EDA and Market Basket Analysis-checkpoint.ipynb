{
 "cells": [
  {
   "cell_type": "markdown",
   "id": "b2fc4c3e",
   "metadata": {},
   "source": [
    "## Introduction"
   ]
  },
  {
   "cell_type": "markdown",
   "id": "197dcc12",
   "metadata": {},
   "source": [
    "## EDA (Exploratory Data Analysis) - (what and why)"
   ]
  },
  {
   "cell_type": "markdown",
   "id": "31b08c31",
   "metadata": {},
   "source": [
    "## Understanding market basket analysis"
   ]
  },
  {
   "cell_type": "markdown",
   "id": "2a14f41c",
   "metadata": {},
   "source": [
    "## Installing libraries and importing data"
   ]
  },
  {
   "cell_type": "markdown",
   "id": "416162a0",
   "metadata": {},
   "source": [
    "## Data cleaning"
   ]
  },
  {
   "cell_type": "markdown",
   "id": "08cf4228",
   "metadata": {},
   "source": [
    "## Customer insights"
   ]
  },
  {
   "cell_type": "markdown",
   "id": "4931f7df",
   "metadata": {},
   "source": [
    "## Date time analysis"
   ]
  },
  {
   "cell_type": "markdown",
   "id": "8f0f4f1a",
   "metadata": {},
   "source": [
    "## Insights - free items"
   ]
  },
  {
   "cell_type": "markdown",
   "id": "b8097ac2",
   "metadata": {},
   "source": [
    "## Item level analysis"
   ]
  },
  {
   "cell_type": "markdown",
   "id": "4cc84c30",
   "metadata": {},
   "source": [
    "## Word cloud"
   ]
  },
  {
   "cell_type": "markdown",
   "id": "4b38ebe3",
   "metadata": {},
   "source": [
    "## Top ten first choices"
   ]
  },
  {
   "cell_type": "markdown",
   "id": "0e189e5a",
   "metadata": {},
   "source": [
    "## Trending items"
   ]
  },
  {
   "cell_type": "markdown",
   "id": "d36861d2",
   "metadata": {},
   "source": [
    "## Deal of the day"
   ]
  },
  {
   "cell_type": "markdown",
   "id": "3d0d86b1",
   "metadata": {},
   "source": [
    "## Preparing data for analysis"
   ]
  },
  {
   "cell_type": "markdown",
   "id": "6232ab04",
   "metadata": {},
   "source": [
    "## Understanding (Association Rules)"
   ]
  },
  {
   "cell_type": "markdown",
   "id": "3995dc20",
   "metadata": {},
   "source": [
    "## Understanding (Apriori Algorithm) "
   ]
  },
  {
   "cell_type": "markdown",
   "id": "870647e9",
   "metadata": {},
   "source": [
    "## Visualisation of (Association Rules) "
   ]
  },
  {
   "cell_type": "markdown",
   "id": "8cef4f9a",
   "metadata": {},
   "source": [
    "## Conclusion"
   ]
  }
 ],
 "metadata": {
  "kernelspec": {
   "display_name": "Python 3 (ipykernel)",
   "language": "python",
   "name": "python3"
  },
  "language_info": {
   "codemirror_mode": {
    "name": "ipython",
    "version": 3
   },
   "file_extension": ".py",
   "mimetype": "text/x-python",
   "name": "python",
   "nbconvert_exporter": "python",
   "pygments_lexer": "ipython3",
   "version": "3.9.12"
  }
 },
 "nbformat": 4,
 "nbformat_minor": 5
}
