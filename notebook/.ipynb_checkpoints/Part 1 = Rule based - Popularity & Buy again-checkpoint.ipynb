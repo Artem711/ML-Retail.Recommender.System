{
 "cells": [
  {
   "cell_type": "markdown",
   "id": "f5f11408",
   "metadata": {},
   "source": [
    "## Theory: (Recommender System) - (what, why, where)"
   ]
  },
  {
   "cell_type": "markdown",
   "id": "3d843ee9",
   "metadata": {},
   "source": [
    "## Theory: Types of (Recommender Systems)"
   ]
  },
  {
   "cell_type": "markdown",
   "id": "17322c3f",
   "metadata": {},
   "source": [
    "## Theory: Rule based (Recommender System)"
   ]
  },
  {
   "cell_type": "markdown",
   "id": "a722e489",
   "metadata": {},
   "source": [
    "## Theory: Market basket analysis (Recommender System)"
   ]
  },
  {
   "cell_type": "markdown",
   "id": "d9df804c",
   "metadata": {},
   "source": [
    "## Theory: Content based (Recommender System)"
   ]
  },
  {
   "cell_type": "markdown",
   "id": "7d5d22b4",
   "metadata": {},
   "source": [
    "## Theory: Collaborative filtering (Recommender System)"
   ]
  },
  {
   "cell_type": "markdown",
   "id": "98bed59e",
   "metadata": {},
   "source": [
    "## Theory: Hybrid (Recommender System)"
   ]
  },
  {
   "cell_type": "markdown",
   "id": "6545e60d",
   "metadata": {},
   "source": [
    "## Theory: Clustering based (Recommender System)"
   ]
  },
  {
   "cell_type": "markdown",
   "id": "b1dd268b",
   "metadata": {},
   "source": [
    "## Theory: Classification based (Recommender System)"
   ]
  },
  {
   "cell_type": "markdown",
   "id": "3c7cbaf4",
   "metadata": {},
   "source": [
    "## Theory: Deep learning based (Recommender System)"
   ]
  },
  {
   "cell_type": "markdown",
   "id": "23fc54b6",
   "metadata": {},
   "source": [
    "## Theory: Knowledge Graph based (Recommender System)"
   ]
  },
  {
   "cell_type": "markdown",
   "id": "6fd62b53",
   "metadata": {},
   "source": [
    "## Theory: Image based (Recommender System)"
   ]
  },
  {
   "cell_type": "markdown",
   "id": "eb62316d",
   "metadata": {},
   "source": [
    "## Theory: Data and similarity measures"
   ]
  },
  {
   "cell_type": "markdown",
   "id": "908782da",
   "metadata": {},
   "source": [
    "## Practical: Implementing rule-based (Recommender System)"
   ]
  }
 ],
 "metadata": {
  "kernelspec": {
   "display_name": "Python 3 (ipykernel)",
   "language": "python",
   "name": "python3"
  },
  "language_info": {
   "codemirror_mode": {
    "name": "ipython",
    "version": 3
   },
   "file_extension": ".py",
   "mimetype": "text/x-python",
   "name": "python",
   "nbconvert_exporter": "python",
   "pygments_lexer": "ipython3",
   "version": "3.9.12"
  }
 },
 "nbformat": 4,
 "nbformat_minor": 5
}
