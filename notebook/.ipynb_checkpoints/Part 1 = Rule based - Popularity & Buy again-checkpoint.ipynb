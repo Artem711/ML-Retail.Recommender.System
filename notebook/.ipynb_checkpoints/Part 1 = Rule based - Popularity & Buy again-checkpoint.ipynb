{
 "cells": [
  {
   "cell_type": "markdown",
   "id": "a33ac485",
   "metadata": {},
   "source": [
    "## Theory: (Recommender System) - (what, why, where)"
   ]
  },
  {
   "cell_type": "markdown",
   "id": "3cf710f1",
   "metadata": {},
   "source": [
    "## Theory: Types of (Recommender Systems)"
   ]
  },
  {
   "cell_type": "markdown",
   "id": "0fcd64a4",
   "metadata": {},
   "source": [
    "## Theory: Rule based (Recommender System)"
   ]
  },
  {
   "cell_type": "markdown",
   "id": "6a8573de",
   "metadata": {},
   "source": [
    "## Theory: Market basket analysis (Recommender System)"
   ]
  },
  {
   "cell_type": "markdown",
   "id": "371f69ae",
   "metadata": {},
   "source": [
    "## Theory: Content based (Recommender System)"
   ]
  },
  {
   "cell_type": "markdown",
   "id": "d9eea255",
   "metadata": {},
   "source": [
    "## Theory: Collaborative filtering (Recommender System)"
   ]
  },
  {
   "cell_type": "markdown",
   "id": "cae6512f",
   "metadata": {},
   "source": [
    "## Theory: Hybrid (Recommender System)"
   ]
  },
  {
   "cell_type": "markdown",
   "id": "f3303335",
   "metadata": {},
   "source": [
    "## Theory: Clustering based (Recommender System)"
   ]
  },
  {
   "cell_type": "markdown",
   "id": "e6231744",
   "metadata": {},
   "source": [
    "## Theory: Classification based (Recommender System)"
   ]
  },
  {
   "cell_type": "markdown",
   "id": "618297cd",
   "metadata": {},
   "source": [
    "## Theory: Deep learning based (Recommender System)"
   ]
  },
  {
   "cell_type": "markdown",
   "id": "731a0f62",
   "metadata": {},
   "source": [
    "## Theory: Knowledge Graph based (Recommender System)"
   ]
  },
  {
   "cell_type": "markdown",
   "id": "48412ba7",
   "metadata": {},
   "source": [
    "## Theory: Image based (Recommender System)"
   ]
  },
  {
   "cell_type": "markdown",
   "id": "4635ebf2",
   "metadata": {},
   "source": [
    "## Theory: Data and similarity measures"
   ]
  },
  {
   "cell_type": "markdown",
   "id": "855c24df",
   "metadata": {},
   "source": [
    "## Practical: Implementing rule-based (Recommender System)"
   ]
  }
 ],
 "metadata": {
  "kernelspec": {
   "display_name": "Python 3 (ipykernel)",
   "language": "python",
   "name": "python3"
  },
  "language_info": {
   "codemirror_mode": {
    "name": "ipython",
    "version": 3
   },
   "file_extension": ".py",
   "mimetype": "text/x-python",
   "name": "python",
   "nbconvert_exporter": "python",
   "pygments_lexer": "ipython3",
   "version": "3.9.12"
  }
 },
 "nbformat": 4,
 "nbformat_minor": 5
}
