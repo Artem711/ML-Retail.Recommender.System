{
 "cells": [
  {
   "cell_type": "markdown",
   "id": "92fe1478",
   "metadata": {},
   "source": [
    "## Introduction"
   ]
  },
  {
   "cell_type": "markdown",
   "id": "16ecec1c",
   "metadata": {},
   "source": [
    "## EDA (Exploratory Data Analysis) - (what and why)"
   ]
  },
  {
   "cell_type": "markdown",
   "id": "619a4510",
   "metadata": {},
   "source": [
    "## Understanding market basket analysis"
   ]
  },
  {
   "cell_type": "markdown",
   "id": "33cbcdbd",
   "metadata": {},
   "source": [
    "## Installing libraries and importing data"
   ]
  },
  {
   "cell_type": "markdown",
   "id": "700830bd",
   "metadata": {},
   "source": [
    "## Data cleaning"
   ]
  },
  {
   "cell_type": "markdown",
   "id": "4a7f65fc",
   "metadata": {},
   "source": [
    "## Customer insights"
   ]
  },
  {
   "cell_type": "markdown",
   "id": "86220795",
   "metadata": {},
   "source": [
    "## Date time analysis"
   ]
  },
  {
   "cell_type": "markdown",
   "id": "4f4d1667",
   "metadata": {},
   "source": [
    "## Insights - free items"
   ]
  },
  {
   "cell_type": "markdown",
   "id": "66695e00",
   "metadata": {},
   "source": [
    "## Item level analysis"
   ]
  },
  {
   "cell_type": "markdown",
   "id": "98458f8f",
   "metadata": {},
   "source": [
    "## Word cloud"
   ]
  },
  {
   "cell_type": "markdown",
   "id": "db7a8a9b",
   "metadata": {},
   "source": [
    "## Top ten first choices"
   ]
  },
  {
   "cell_type": "markdown",
   "id": "a1cc5685",
   "metadata": {},
   "source": [
    "## Trending items"
   ]
  },
  {
   "cell_type": "markdown",
   "id": "5b42177a",
   "metadata": {},
   "source": [
    "## Deal of the day"
   ]
  },
  {
   "cell_type": "markdown",
   "id": "ff999cc0",
   "metadata": {},
   "source": [
    "## Preparing data for analysis"
   ]
  },
  {
   "cell_type": "markdown",
   "id": "ce17a598",
   "metadata": {},
   "source": [
    "## Understanding (Association Rules)"
   ]
  },
  {
   "cell_type": "markdown",
   "id": "0f87e1d0",
   "metadata": {},
   "source": [
    "## Understanding (Apriori Algorithm) "
   ]
  },
  {
   "cell_type": "markdown",
   "id": "004ab8a0",
   "metadata": {},
   "source": [
    "## Visualisation of (Association Rules) "
   ]
  },
  {
   "cell_type": "markdown",
   "id": "ba2b9f71",
   "metadata": {},
   "source": [
    "## Conclusion"
   ]
  }
 ],
 "metadata": {
  "kernelspec": {
   "display_name": "Python 3 (ipykernel)",
   "language": "python",
   "name": "python3"
  },
  "language_info": {
   "codemirror_mode": {
    "name": "ipython",
    "version": 3
   },
   "file_extension": ".py",
   "mimetype": "text/x-python",
   "name": "python",
   "nbconvert_exporter": "python",
   "pygments_lexer": "ipython3",
   "version": "3.9.12"
  }
 },
 "nbformat": 4,
 "nbformat_minor": 5
}
